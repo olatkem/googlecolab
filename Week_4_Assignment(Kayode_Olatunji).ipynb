{
  "nbformat": 4,
  "nbformat_minor": 0,
  "metadata": {
    "kernelspec": {
      "display_name": "Python 3",
      "language": "python",
      "name": "python3"
    },
    "language_info": {
      "codemirror_mode": {
        "name": "ipython",
        "version": 3
      },
      "file_extension": ".py",
      "mimetype": "text/x-python",
      "name": "python",
      "nbconvert_exporter": "python",
      "pygments_lexer": "ipython3",
      "version": "3.7.1"
    },
    "colab": {
      "name": "Week 4 Assignment(Kayode Olatunji).ipynb",
      "provenance": [],
      "include_colab_link": true
    }
  },
  "cells": [
    {
      "cell_type": "markdown",
      "metadata": {
        "id": "view-in-github",
        "colab_type": "text"
      },
      "source": [
        "<a href=\"https://colab.research.google.com/github/olatkem/googlecolab/blob/master/Week_4_Assignment(Kayode_Olatunji).ipynb\" target=\"_parent\"><img src=\"https://colab.research.google.com/assets/colab-badge.svg\" alt=\"Open In Colab\"/></a>"
      ]
    },
    {
      "cell_type": "markdown",
      "metadata": {
        "id": "gmnrGxf2FCR5",
        "colab_type": "text"
      },
      "source": [
        "#### 1. Name and Email as Comments"
      ]
    },
    {
      "cell_type": "code",
      "metadata": {
        "id": "SzlrmuUwFCR_",
        "colab_type": "code",
        "colab": {}
      },
      "source": [
        "# Kayode Olatunji\n",
        "\n",
        "# olatkem@gmail.com"
      ],
      "execution_count": 0,
      "outputs": []
    },
    {
      "cell_type": "markdown",
      "metadata": {
        "id": "-wlbGc-0FCSN",
        "colab_type": "text"
      },
      "source": [
        "#### 2. Python Data Types"
      ]
    },
    {
      "cell_type": "markdown",
      "metadata": {
        "id": "HdfQZKoLFCSR",
        "colab_type": "text"
      },
      "source": [
        "1. Numbers(Integer, Floating point number and complex number) \n",
        "2. List\n",
        "3. Tuple\n",
        "4. string\n",
        "5. Dictionary\n",
        "6. Set\n",
        "7. DataFrame"
      ]
    },
    {
      "cell_type": "markdown",
      "metadata": {
        "id": "YvCBdBw-FCSW",
        "colab_type": "text"
      },
      "source": [
        "####  A. Numbers"
      ]
    },
    {
      "cell_type": "code",
      "metadata": {
        "id": "h6W3swghFCSZ",
        "colab_type": "code",
        "outputId": "37eff2f0-3353-4788-ba67-9d3901e9ad1d",
        "colab": {}
      },
      "source": [
        "# Integers\n",
        "x = 5\n",
        "type(5)"
      ],
      "execution_count": 0,
      "outputs": [
        {
          "output_type": "execute_result",
          "data": {
            "text/plain": [
              "int"
            ]
          },
          "metadata": {
            "tags": []
          },
          "execution_count": 29
        }
      ]
    },
    {
      "cell_type": "code",
      "metadata": {
        "id": "MMzfbT18FCSk",
        "colab_type": "code",
        "outputId": "25a16d15-7439-457f-9aa4-ef047bcfbb43",
        "colab": {
          "base_uri": "https://localhost:8080/",
          "height": 34
        }
      },
      "source": [
        "y = 5.0\n",
        "type(y)"
      ],
      "execution_count": 0,
      "outputs": [
        {
          "output_type": "execute_result",
          "data": {
            "text/plain": [
              "float"
            ]
          },
          "metadata": {
            "tags": []
          },
          "execution_count": 1
        }
      ]
    },
    {
      "cell_type": "code",
      "metadata": {
        "id": "jrJT8CEXFCSr",
        "colab_type": "code",
        "outputId": "b7d9e837-e772-431e-f4ac-e13f53fb2faa",
        "colab": {}
      },
      "source": [
        "c = 7 + 4j\n",
        "type(c)"
      ],
      "execution_count": 0,
      "outputs": [
        {
          "output_type": "execute_result",
          "data": {
            "text/plain": [
              "complex"
            ]
          },
          "metadata": {
            "tags": []
          },
          "execution_count": 31
        }
      ]
    },
    {
      "cell_type": "markdown",
      "metadata": {
        "id": "HrrMNXfOFCSx",
        "colab_type": "text"
      },
      "source": [
        "#### B. List [  ]"
      ]
    },
    {
      "cell_type": "code",
      "metadata": {
        "id": "SpEx1ljLFCSz",
        "colab_type": "code",
        "outputId": "a877828c-e6ed-412e-dd2d-2b448e22aa90",
        "colab": {}
      },
      "source": [
        "customer_info = ['kate', 8.6,'perry', 7.6, 'Arith','Ruth',9.6,'Ether',5.5,'Ruth', 6.3]\n",
        "customer_info"
      ],
      "execution_count": 0,
      "outputs": [
        {
          "output_type": "execute_result",
          "data": {
            "text/plain": [
              "['kate', 8.6, 'perry', 7.6, 'Arith', 'Ruth', 9.6, 'Ether', 5.5, 'Ruth', 6.3]"
            ]
          },
          "metadata": {
            "tags": []
          },
          "execution_count": 32
        }
      ]
    },
    {
      "cell_type": "code",
      "metadata": {
        "id": "GI6Nf-lQFCS5",
        "colab_type": "code",
        "outputId": "014ccd56-44fa-4d92-f163-88a6810bbb32",
        "colab": {}
      },
      "source": [
        "type(customer_info)"
      ],
      "execution_count": 0,
      "outputs": [
        {
          "output_type": "execute_result",
          "data": {
            "text/plain": [
              "list"
            ]
          },
          "metadata": {
            "tags": []
          },
          "execution_count": 5
        }
      ]
    },
    {
      "cell_type": "markdown",
      "metadata": {
        "id": "BVzqbYzFFCTA",
        "colab_type": "text"
      },
      "source": [
        "#### C. Tuple (  )"
      ]
    },
    {
      "cell_type": "code",
      "metadata": {
        "id": "4RiYn0GsFCTC",
        "colab_type": "code",
        "outputId": "2e2368a3-f8ec-4a5c-83bd-30c9bef93d8f",
        "colab": {}
      },
      "source": [
        "Employee = ('Tola', 30000, 'Richard', 45000, 'Benson', 75000, 'Reath', 56000)\n",
        "Employee"
      ],
      "execution_count": 0,
      "outputs": [
        {
          "output_type": "execute_result",
          "data": {
            "text/plain": [
              "('Tola', 30000, 'Richard', 45000, 'Benson', 75000, 'Reath', 56000)"
            ]
          },
          "metadata": {
            "tags": []
          },
          "execution_count": 33
        }
      ]
    },
    {
      "cell_type": "code",
      "metadata": {
        "id": "-1SSzo4rFCTL",
        "colab_type": "code",
        "outputId": "0536dffe-da60-47df-87a7-cd8d876e77bc",
        "colab": {}
      },
      "source": [
        "type(Employee)"
      ],
      "execution_count": 0,
      "outputs": [
        {
          "output_type": "execute_result",
          "data": {
            "text/plain": [
              "tuple"
            ]
          },
          "metadata": {
            "tags": []
          },
          "execution_count": 34
        }
      ]
    },
    {
      "cell_type": "markdown",
      "metadata": {
        "id": "Ii-XrcIdFCTS",
        "colab_type": "text"
      },
      "source": [
        "#### D. String '  '"
      ]
    },
    {
      "cell_type": "code",
      "metadata": {
        "id": "55zc4o-qFCTW",
        "colab_type": "code",
        "outputId": "3283721b-d76d-4fd3-a69f-89545856a953",
        "colab": {}
      },
      "source": [
        "x = 'Hellon Python'\n",
        "type(x)"
      ],
      "execution_count": 0,
      "outputs": [
        {
          "output_type": "execute_result",
          "data": {
            "text/plain": [
              "str"
            ]
          },
          "metadata": {
            "tags": []
          },
          "execution_count": 35
        }
      ]
    },
    {
      "cell_type": "markdown",
      "metadata": {
        "id": "zDPOxEopFCTb",
        "colab_type": "text"
      },
      "source": [
        "#### E. Dictionary {  }"
      ]
    },
    {
      "cell_type": "code",
      "metadata": {
        "id": "SuK7BQtrFCTd",
        "colab_type": "code",
        "outputId": "f319e233-5efc-4591-b5b4-2f5701801142",
        "colab": {
          "base_uri": "https://localhost:8080/",
          "height": 34
        }
      },
      "source": [
        "cus  =  {'FirstName': ['Larry','Dolly','Patty','Bola','Joan'],\n",
        "         'LastNmae' : ['John','Paymen','Taiman','Viza','Dindi'],\n",
        "         'Age'      : [26,45,32,45,34],\n",
        "         'Salary'   : [20000,30000,45000,18000,60000],\n",
        "         'City'     : ['San Francisco','Lagos','Abuja','Ottawa','Cagliary'],\n",
        "         'Phone'    : [81907567,74905654,81654488,42908877,74776655]}\n",
        "type(cus)"
      ],
      "execution_count": 0,
      "outputs": [
        {
          "output_type": "execute_result",
          "data": {
            "text/plain": [
              "dict"
            ]
          },
          "metadata": {
            "tags": []
          },
          "execution_count": 2
        }
      ]
    },
    {
      "cell_type": "markdown",
      "metadata": {
        "id": "bNdARK2YFCTi",
        "colab_type": "text"
      },
      "source": [
        "#### F. Set "
      ]
    },
    {
      "cell_type": "code",
      "metadata": {
        "id": "Y3m8Q2eeFCTj",
        "colab_type": "code",
        "outputId": "0ae55681-bb64-4ecd-9dcb-60bb74c2bfdf",
        "colab": {}
      },
      "source": [
        "my_set = set([1, 2, 3, 4, 5])\n",
        "type(my_set)"
      ],
      "execution_count": 0,
      "outputs": [
        {
          "output_type": "execute_result",
          "data": {
            "text/plain": [
              "set"
            ]
          },
          "metadata": {
            "tags": []
          },
          "execution_count": 37
        }
      ]
    },
    {
      "cell_type": "code",
      "metadata": {
        "id": "B2FINz0HFCTo",
        "colab_type": "code",
        "outputId": "99c345eb-4397-496c-dfb4-f22a9e102c57",
        "colab": {}
      },
      "source": [
        "my_set = {1, 2, 3, 4, 5}\n",
        "type(my_set)"
      ],
      "execution_count": 0,
      "outputs": [
        {
          "output_type": "execute_result",
          "data": {
            "text/plain": [
              "set"
            ]
          },
          "metadata": {
            "tags": []
          },
          "execution_count": 38
        }
      ]
    },
    {
      "cell_type": "markdown",
      "metadata": {
        "id": "rIG_N6jKFCTt",
        "colab_type": "text"
      },
      "source": [
        "#### G. DataFrame"
      ]
    },
    {
      "cell_type": "code",
      "metadata": {
        "id": "UTzEVz4jFCTu",
        "colab_type": "code",
        "outputId": "79538976-fdc9-4af5-b538-32f6a537ac08",
        "colab": {
          "base_uri": "https://localhost:8080/",
          "height": 240
        }
      },
      "source": [
        "import pandas as pd\n",
        "\n",
        "cus  =  {'FirstName': ['Larry','Dolly','Patty','Bola','Joan'],\n",
        "         'LastNmae' : ['John','Paymen','Taiman','Viza','Dindi'],\n",
        "         'Age'      : [26,45,32,45,34],\n",
        "         'Salary'   : [20000,30000,45000,18000,60000],\n",
        "         'City'     : ['San Francisco','Lagos','Abuja','Ottawa','Cagliary'],\n",
        "         'Phone'    : [81907567,74905654,81654488,42908877,74776655]}\n",
        "customer_info = pd.DataFrame(cus)\n",
        "customer_info"
      ],
      "execution_count": 0,
      "outputs": [
        {
          "output_type": "execute_result",
          "data": {
            "text/html": [
              "<div>\n",
              "<style scoped>\n",
              "    .dataframe tbody tr th:only-of-type {\n",
              "        vertical-align: middle;\n",
              "    }\n",
              "\n",
              "    .dataframe tbody tr th {\n",
              "        vertical-align: top;\n",
              "    }\n",
              "\n",
              "    .dataframe thead th {\n",
              "        text-align: right;\n",
              "    }\n",
              "</style>\n",
              "<table border=\"1\" class=\"dataframe\">\n",
              "  <thead>\n",
              "    <tr style=\"text-align: right;\">\n",
              "      <th></th>\n",
              "      <th>FirstName</th>\n",
              "      <th>LastNmae</th>\n",
              "      <th>Age</th>\n",
              "      <th>Salary</th>\n",
              "      <th>City</th>\n",
              "      <th>Phone</th>\n",
              "    </tr>\n",
              "  </thead>\n",
              "  <tbody>\n",
              "    <tr>\n",
              "      <th>0</th>\n",
              "      <td>Larry</td>\n",
              "      <td>John</td>\n",
              "      <td>26</td>\n",
              "      <td>20000</td>\n",
              "      <td>San Francisco</td>\n",
              "      <td>81907567</td>\n",
              "    </tr>\n",
              "    <tr>\n",
              "      <th>1</th>\n",
              "      <td>Dolly</td>\n",
              "      <td>Paymen</td>\n",
              "      <td>45</td>\n",
              "      <td>30000</td>\n",
              "      <td>Lagos</td>\n",
              "      <td>74905654</td>\n",
              "    </tr>\n",
              "    <tr>\n",
              "      <th>2</th>\n",
              "      <td>Patty</td>\n",
              "      <td>Taiman</td>\n",
              "      <td>32</td>\n",
              "      <td>45000</td>\n",
              "      <td>Abuja</td>\n",
              "      <td>81654488</td>\n",
              "    </tr>\n",
              "    <tr>\n",
              "      <th>3</th>\n",
              "      <td>Bola</td>\n",
              "      <td>Viza</td>\n",
              "      <td>45</td>\n",
              "      <td>18000</td>\n",
              "      <td>Ottawa</td>\n",
              "      <td>42908877</td>\n",
              "    </tr>\n",
              "    <tr>\n",
              "      <th>4</th>\n",
              "      <td>Joan</td>\n",
              "      <td>Dindi</td>\n",
              "      <td>34</td>\n",
              "      <td>60000</td>\n",
              "      <td>Cagliary</td>\n",
              "      <td>74776655</td>\n",
              "    </tr>\n",
              "  </tbody>\n",
              "</table>\n",
              "</div>"
            ],
            "text/plain": [
              "  FirstName LastNmae  Age  Salary           City     Phone\n",
              "0     Larry     John   26   20000  San Francisco  81907567\n",
              "1     Dolly   Paymen   45   30000          Lagos  74905654\n",
              "2     Patty   Taiman   32   45000          Abuja  81654488\n",
              "3      Bola     Viza   45   18000         Ottawa  42908877\n",
              "4      Joan    Dindi   34   60000       Cagliary  74776655"
            ]
          },
          "metadata": {
            "tags": []
          },
          "execution_count": 3
        }
      ]
    },
    {
      "cell_type": "code",
      "metadata": {
        "id": "WEG7wD-wFCT0",
        "colab_type": "code",
        "outputId": "9207a9b3-3270-45ce-961a-479cb0937830",
        "colab": {
          "base_uri": "https://localhost:8080/",
          "height": 34
        }
      },
      "source": [
        "type(customer_info)"
      ],
      "execution_count": 0,
      "outputs": [
        {
          "output_type": "execute_result",
          "data": {
            "text/plain": [
              "pandas.core.frame.DataFrame"
            ]
          },
          "metadata": {
            "tags": []
          },
          "execution_count": 4
        }
      ]
    },
    {
      "cell_type": "markdown",
      "metadata": {
        "id": "LEMunbYtFCT5",
        "colab_type": "text"
      },
      "source": [
        "#### 3. Python Keywords"
      ]
    },
    {
      "cell_type": "code",
      "metadata": {
        "id": "61NrrRS6FCT7",
        "colab_type": "code",
        "outputId": "b3c9adea-dfa4-417e-dcc1-c7826aaafd84",
        "colab": {}
      },
      "source": [
        "import keyword\n",
        "print(keyword.kwlist)"
      ],
      "execution_count": 0,
      "outputs": [
        {
          "output_type": "stream",
          "text": [
            "['False', 'None', 'True', 'and', 'as', 'assert', 'async', 'await', 'break', 'class', 'continue', 'def', 'del', 'elif', 'else', 'except', 'finally', 'for', 'from', 'global', 'if', 'import', 'in', 'is', 'lambda', 'nonlocal', 'not', 'or', 'pass', 'raise', 'return', 'try', 'while', 'with', 'yield']\n"
          ],
          "name": "stdout"
        }
      ]
    },
    {
      "cell_type": "code",
      "metadata": {
        "id": "vlbome5UFCUA",
        "colab_type": "code",
        "colab": {}
      },
      "source": [
        "#1. import\n",
        "#2. as\n",
        "#3. True\n",
        "#4. False\n",
        "#5. del\n",
        "#6. from"
      ],
      "execution_count": 0,
      "outputs": []
    }
  ]
}